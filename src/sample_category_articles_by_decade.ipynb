{
 "cells": [
  {
   "cell_type": "code",
   "execution_count": null,
   "metadata": {
    "collapsed": false
   },
   "outputs": [
    {
     "name": "stderr",
     "output_type": "stream",
     "text": [
      "/usr/local/lib/python3.5/site-packages/matplotlib/__init__.py:872: UserWarning: axes.color_cycle is deprecated and replaced with axes.prop_cycle; please use the latter.\n",
      "  warnings.warn(self.msg_depr % (key, alt_key))\n"
     ]
    }
   ],
   "source": [
    "import pandas as pd\n",
    "from scipy import stats \n",
    "import numpy as np\n",
    "import json\n",
    "import sys\n",
    "\n",
    "import matplotlib.pyplot as plt\n",
    "%matplotlib inline\n",
    "import seaborn as sns\n",
    "\n",
    "\n",
    "from collections import defaultdict\n",
    "\n",
    "#change to appropriate path\n",
    "results_path = \"/Users/mark/Desktop/wiki_v4/\""
   ]
  },
  {
   "cell_type": "markdown",
   "metadata": {},
   "source": [
    "## Load Article Title by Year "
   ]
  },
  {
   "cell_type": "code",
   "execution_count": null,
   "metadata": {
    "collapsed": true
   },
   "outputs": [],
   "source": [
    "#load Wikipedia First Link Network \n",
    "\n",
    "\n",
    "with open(results_path + \"fln.json\") as f:\n",
    "    fln_dict = json.load(f)\n",
    "fln_df = pd.DataFrame.from_dict(fln_dict, orient='index')\n",
    "fln_df.index.name = 'article'\n",
    "fln_df.columns = ['first link']\n",
    "fln_df = fln_df.reset_index()"
   ]
  },
  {
   "cell_type": "code",
   "execution_count": null,
   "metadata": {
    "collapsed": true
   },
   "outputs": [],
   "source": [
    "#load Categories\n",
    "data_path = \"/Users/mark/Dropbox/Math/Complex_Systems/research/classifying-ideas/historical_wikipedia/data/\"\n",
    "with open(data_path + \"categories_for_words.json\") as f:\n",
    "    categories_dict = json.load(f)"
   ]
  },
  {
   "cell_type": "code",
   "execution_count": null,
   "metadata": {
    "collapsed": true
   },
   "outputs": [],
   "source": [
    "#create list of categories\n",
    "categories_set = set([])\n",
    "for category_group in categories_dict.values():\n",
    "    categories_set = categories_set.union(set(category_group))\n",
    "\n",
    "categories_list = list(categories_set)"
   ]
  },
  {
   "cell_type": "code",
   "execution_count": null,
   "metadata": {
    "collapsed": true
   },
   "outputs": [],
   "source": [
    "#load word with years json\n",
    "\n",
    "with open(\"../data/words_with_years.json\") as dw:\n",
    "    word_years_dict = json.load(dw)\n",
    "    #default dict value of 2015\n",
    "    word_years_dict = defaultdict(lambda: 2015, word_years_dict)"
   ]
  },
  {
   "cell_type": "markdown",
   "metadata": {},
   "source": [
    "### Compute year for article"
   ]
  },
  {
   "cell_type": "code",
   "execution_count": null,
   "metadata": {
    "collapsed": true
   },
   "outputs": [],
   "source": [
    "def get_article_year(title):\n",
    "    \"\"\"\n",
    "    returns the earliest year\n",
    "    the article could have appeared\n",
    "    by computing the latest first \n",
    "    appearance of the words in the title\n",
    "    \"\"\"\n",
    "    years = []\n",
    "    for word in title.split():\n",
    "        years.append(word_years_dict[word.lower().strip(\"()\")])\n",
    "    years.sort()\n",
    "    if years:\n",
    "        return years[-1]\n",
    "    else:\n",
    "        return 2015"
   ]
  },
  {
   "cell_type": "code",
   "execution_count": null,
   "metadata": {
    "collapsed": true
   },
   "outputs": [],
   "source": [
    "#apply function to dataframe (runtime ~3 min)\n",
    "fln_df['year'] = fln_df['article'].apply(get_article_year)"
   ]
  },
  {
   "cell_type": "markdown",
   "metadata": {},
   "source": [
    "## Compute Category Rank by Decade\n",
    "\n",
    "* a word may appear in more than one category\n",
    "* a word appearing more than once in the title is not double counted in rank"
   ]
  },
  {
   "cell_type": "code",
   "execution_count": null,
   "metadata": {
    "collapsed": false
   },
   "outputs": [],
   "source": [
    "def get_article_categories(title):\n",
    "    \"\"\"\n",
    "    returns a dictionary of categories and their frequency \n",
    "    based on the words in the title \n",
    "        formatted as a dictionary: category --> frequency\n",
    "        words appearing more than once in the title are not double counted\n",
    "    \"\"\"\n",
    "    categories = defaultdict(int)\n",
    "    try:\n",
    "        for word in title.split():\n",
    "            #eliminate duplicates \n",
    "            word_categories = set(categories_dict.get(word.lower().strip(\"()\"), []))\n",
    "            for category in word_categories:\n",
    "                categories[category] += 1\n",
    "        if categories:\n",
    "            return categories\n",
    "        else:\n",
    "            return False\n",
    "    except AttributeError:\n",
    "        return False\n",
    "        \n",
    "len_categories = len(list(categories_set))\n",
    "\n",
    "def get_categories_freq_list(title):\n",
    "    \"\"\"\n",
    "    returns a list of frequency count for each of the 371 categories\n",
    "    based on the title of the given article\n",
    "    \"\"\"\n",
    "    categories = get_article_categories(title)\n",
    "    freq_list = np.zeros(len_categories)\n",
    "    # confirm categories aren't empty\n",
    "    if categories:\n",
    "        for category, count in categories.items():\n",
    "            index = categories_list.index(category)\n",
    "            freq_list[index] += count\n",
    "    return freq_list\n",
    "        "
   ]
  },
  {
   "cell_type": "code",
   "execution_count": null,
   "metadata": {
    "collapsed": false
   },
   "outputs": [],
   "source": [
    "get_article_categories(\"apple computer the technology\")"
   ]
  },
  {
   "cell_type": "markdown",
   "metadata": {},
   "source": [
    "### Compute Category Frequency by article"
   ]
  },
  {
   "cell_type": "code",
   "execution_count": null,
   "metadata": {
    "collapsed": false
   },
   "outputs": [],
   "source": [
    "fln_df.head()"
   ]
  },
  {
   "cell_type": "code",
   "execution_count": null,
   "metadata": {
    "collapsed": true
   },
   "outputs": [],
   "source": []
  }
 ],
 "metadata": {
  "kernelspec": {
   "display_name": "Python 3",
   "language": "python",
   "name": "python3"
  },
  "language_info": {
   "codemirror_mode": {
    "name": "ipython",
    "version": 3
   },
   "file_extension": ".py",
   "mimetype": "text/x-python",
   "name": "python",
   "nbconvert_exporter": "python",
   "pygments_lexer": "ipython3",
   "version": "3.5.1"
  }
 },
 "nbformat": 4,
 "nbformat_minor": 0
}

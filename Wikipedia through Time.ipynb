{
 "metadata": {
  "name": "",
  "signature": "sha256:5b37e95f5e52936db40fabbc654b8186661b4fc8bb7f01e2d79b109e6cc6fe79"
 },
 "nbformat": 3,
 "nbformat_minor": 0,
 "worksheets": [
  {
   "cells": [
    {
     "cell_type": "markdown",
     "metadata": {},
     "source": [
      "TODO: \n",
      "\n",
      "* ~~number of articles (number of ideas present)~~\n",
      "* create FLN \n",
      "    - degree distribution (how connected ideas are?)\n",
      "    - list of invalid first links \n",
      "    - accumulation (what's the most important idea), cycles (groups of ideas), and influence (most influential idea)\n",
      "    "
     ]
    },
    {
     "cell_type": "code",
     "collapsed": false,
     "input": [
      "import pandas as pd\n",
      "from scipy import stats \n",
      "import numpy as np\n",
      "import json\n",
      "\n",
      "import matplotlib.pyplot as plt\n",
      "%matplotlib inline\n",
      "import seaborn as sns\n",
      "\n",
      "from collections import defaultdict"
     ],
     "language": "python",
     "metadata": {},
     "outputs": [],
     "prompt_number": 1
    },
    {
     "cell_type": "code",
     "collapsed": false,
     "input": [
      "#load word with years json\n",
      "\n",
      "with open(\"data/words_with_years.json\") as dw:\n",
      "    word_years_dict = json.load(dw)\n",
      "    #default dict value of 2015\n",
      "    word_years_dict = defaultdict(lambda: 2015, word_years_dict)\n",
      "    "
     ],
     "language": "python",
     "metadata": {},
     "outputs": [],
     "prompt_number": 2
    },
    {
     "cell_type": "code",
     "collapsed": false,
     "input": [
      "#load Wikipedia First Link Network \n",
      "\n",
      "#change to appropriate path\n",
      "results_path = \"/Users/mark/Desktop/wiki_v4/\" \n",
      "\n",
      "with open(results_path + \"fln.json\") as f:\n",
      "    fln_dict = json.load(f)\n",
      "fln_df = pd.DataFrame(fln_dict.items())\n",
      "fln_df.columns = ['article', 'first link']\n"
     ],
     "language": "python",
     "metadata": {},
     "outputs": [],
     "prompt_number": 3
    },
    {
     "cell_type": "code",
     "collapsed": false,
     "input": [
      "def get_article_year(title):\n",
      "    \"\"\"\n",
      "    returns the earliest year\n",
      "    the article could have appeared\n",
      "    by computing the latest first \n",
      "    appearance of the words in the title\n",
      "    \"\"\"\n",
      "    years = []\n",
      "    for word in title.split():\n",
      "        years.append(word_years_dict[word.lower().strip(\"()\")])\n",
      "    years.sort()\n",
      "    if years:\n",
      "        return years[-1]\n",
      "    else:\n",
      "        return 2015"
     ],
     "language": "python",
     "metadata": {},
     "outputs": [],
     "prompt_number": 24
    },
    {
     "cell_type": "code",
     "collapsed": false,
     "input": [
      "#apply function to dataframe (runtime ~6 min)\n",
      "fln_df['year'] = fln_df['article'].apply(get_article_year)"
     ],
     "language": "python",
     "metadata": {},
     "outputs": [],
     "prompt_number": 25
    },
    {
     "cell_type": "markdown",
     "metadata": {},
     "source": [
      "##Number of articles \n",
      "a proxy for the evolution of the number of ideas through time"
     ]
    },
    {
     "cell_type": "code",
     "collapsed": false,
     "input": [
      "centuries = range(1000, 2100, 100)\n",
      "number_of_articles = []\n",
      "\n",
      "for century in centuries:\n",
      "    number_of_articles.append(fln_df[fln_df['year'] < century].shape[0])\n",
      "    \n",
      "print number_of_articles"
     ],
     "language": "python",
     "metadata": {},
     "outputs": [
      {
       "output_type": "stream",
       "stream": "stdout",
       "text": [
        "[4834, 4849, 7865, 57184, 223858, 338298, 600321, 842172, 975123, 1352958, 1561537]\n"
       ]
      }
     ],
     "prompt_number": 32
    },
    {
     "cell_type": "code",
     "collapsed": false,
     "input": [
      "plt.scatter(centuries, number_of_articles, c=\"#268bd2\")\n",
      "plt.xlabel(\"Year\")\n",
      "plt.ylabel(\"Number of Articles\")\n",
      "plt.title(\"Articles through Time\")"
     ],
     "language": "python",
     "metadata": {},
     "outputs": [
      {
       "metadata": {},
       "output_type": "pyout",
       "prompt_number": 37,
       "text": [
        "<matplotlib.text.Text at 0x12ea4e490>"
       ]
      },
      {
       "metadata": {},
       "output_type": "display_data",
       "png": "[encoded data removed]",
       "text": [
        "<matplotlib.figure.Figure at 0x12e93c310>"
       ]
      }
     ],
     "prompt_number": 37
    },
    {
     "cell_type": "markdown",
     "metadata": {},
     "source": [
      "##Degree Distribution and Invalid Links\n",
      "how connected and disconnected are ideas?"
     ]
    },
    {
     "cell_type": "code",
     "collapsed": false,
     "input": [],
     "language": "python",
     "metadata": {},
     "outputs": [],
     "prompt_number": 25
    },
    {
     "cell_type": "markdown",
     "metadata": {},
     "source": [
      "##Where do references accumulate?\n",
      "how does the main anchor for our ideas change through time?"
     ]
    },
    {
     "cell_type": "code",
     "collapsed": false,
     "input": [],
     "language": "python",
     "metadata": {},
     "outputs": [],
     "prompt_number": 25
    },
    {
     "cell_type": "markdown",
     "metadata": {},
     "source": [
      "##Which articles most influence the shape of the network?\n",
      "the organization of ideas' connections changing through time"
     ]
    },
    {
     "cell_type": "code",
     "collapsed": false,
     "input": [],
     "language": "python",
     "metadata": {},
     "outputs": []
    }
   ],
   "metadata": {}
  }
 ]
}
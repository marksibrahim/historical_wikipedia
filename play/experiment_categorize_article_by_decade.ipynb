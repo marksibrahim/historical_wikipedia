{
 "cells": [
  {
   "cell_type": "code",
   "execution_count": 1,
   "metadata": {
    "collapsed": false
   },
   "outputs": [
    {
     "name": "stderr",
     "output_type": "stream",
     "text": [
      "/usr/local/lib/python3.5/site-packages/matplotlib/__init__.py:872: UserWarning: axes.color_cycle is deprecated and replaced with axes.prop_cycle; please use the latter.\n",
      "  warnings.warn(self.msg_depr % (key, alt_key))\n"
     ]
    }
   ],
   "source": [
    "import pandas as pd\n",
    "from scipy import stats \n",
    "import numpy as np\n",
    "import json\n",
    "import sys\n",
    "\n",
    "import matplotlib.pyplot as plt\n",
    "%matplotlib inline\n",
    "import seaborn as sns\n",
    "\n",
    "\n",
    "from collections import defaultdict\n",
    "\n",
    "#change to appropriate path\n",
    "results_path = \"/Users/mark/Desktop/wiki_v4/\""
   ]
  },
  {
   "cell_type": "markdown",
   "metadata": {},
   "source": [
    "## Load Article Title by Year "
   ]
  },
  {
   "cell_type": "code",
   "execution_count": 2,
   "metadata": {
    "collapsed": true
   },
   "outputs": [],
   "source": [
    "#load Wikipedia First Link Network \n",
    "\n",
    "\n",
    "with open(results_path + \"fln.json\") as f:\n",
    "    fln_dict = json.load(f)\n",
    "fln_df = pd.DataFrame.from_dict(fln_dict, orient='index')\n",
    "fln_df.index.name = 'article'\n",
    "fln_df.columns = ['first link']\n",
    "fln_df = fln_df.reset_index()"
   ]
  },
  {
   "cell_type": "code",
   "execution_count": 3,
   "metadata": {
    "collapsed": true
   },
   "outputs": [],
   "source": [
    "#load Categories\n",
    "data_path = \"/Users/mark/Dropbox/Math/Complex_Systems/research/classifying-ideas/historical_wikipedia/data/\"\n",
    "with open(data_path + \"categories_for_words.json\") as f:\n",
    "    categories_dict = json.load(f)"
   ]
  },
  {
   "cell_type": "code",
   "execution_count": 4,
   "metadata": {
    "collapsed": true
   },
   "outputs": [],
   "source": [
    "#create list of categories\n",
    "categories_set = set([])\n",
    "for category_group in categories_dict.values():\n",
    "    categories_set = categories_set.union(set(category_group))\n",
    "\n",
    "categories_list = list(categories_set)"
   ]
  },
  {
   "cell_type": "code",
   "execution_count": 5,
   "metadata": {
    "collapsed": true
   },
   "outputs": [],
   "source": [
    "#load word with years json\n",
    "\n",
    "with open(\"../data/words_with_years.json\") as dw:\n",
    "    word_years_dict = json.load(dw)\n",
    "    #default dict value of 2015\n",
    "    word_years_dict = defaultdict(lambda: 2015, word_years_dict)"
   ]
  },
  {
   "cell_type": "markdown",
   "metadata": {},
   "source": [
    "### Compute year for article"
   ]
  },
  {
   "cell_type": "code",
   "execution_count": 6,
   "metadata": {
    "collapsed": true
   },
   "outputs": [],
   "source": [
    "def get_article_year(title):\n",
    "    \"\"\"\n",
    "    returns the earliest year\n",
    "    the article could have appeared\n",
    "    by computing the latest first \n",
    "    appearance of the words in the title\n",
    "    \"\"\"\n",
    "    years = []\n",
    "    for word in title.split():\n",
    "        years.append(word_years_dict[word.lower().strip(\"()\")])\n",
    "    years.sort()\n",
    "    if years:\n",
    "        return years[-1]\n",
    "    else:\n",
    "        return 2015"
   ]
  },
  {
   "cell_type": "code",
   "execution_count": 7,
   "metadata": {
    "collapsed": true
   },
   "outputs": [],
   "source": [
    "#apply function to dataframe (runtime ~3 min)\n",
    "fln_df['year'] = fln_df['article'].apply(get_article_year)"
   ]
  },
  {
   "cell_type": "markdown",
   "metadata": {},
   "source": [
    "## Compute Category Rank by Decade\n",
    "\n",
    "* a word may appear in more than one category\n",
    "* a word appearing more than once in the title is not double counted in rank"
   ]
  },
  {
   "cell_type": "code",
   "execution_count": 8,
   "metadata": {
    "collapsed": false
   },
   "outputs": [],
   "source": [
    "def get_article_categories(title):\n",
    "    \"\"\"\n",
    "    returns a dictionary of categories and their frequency \n",
    "    based on the words in the title \n",
    "        formatted as a dictionary: category --> frequency\n",
    "        words appearing more than once in the title are not double counted\n",
    "    \"\"\"\n",
    "    categories = defaultdict(int)\n",
    "    try:\n",
    "        for word in title.split():\n",
    "            #eliminate duplicates \n",
    "            word_categories = set(categories_dict.get(word.lower().strip(\"()\"), []))\n",
    "            for category in word_categories:\n",
    "                categories[category] += 1\n",
    "        if categories:\n",
    "            return categories\n",
    "        else:\n",
    "            return False\n",
    "    except AttributeError:\n",
    "        return False\n",
    "        \n",
    "len_categories = len(list(categories_set))\n",
    "\n",
    "def get_categories_freq_list(title):\n",
    "    \"\"\"\n",
    "    returns a list of frequency count for each of the 371 categories\n",
    "    based on the title of the given article\n",
    "    \"\"\"\n",
    "    categories = get_article_categories(title)\n",
    "    freq_list = np.zeros(len_categories)\n",
    "    # confirm categories aren't empty\n",
    "    if categories:\n",
    "        for category, count in categories.items():\n",
    "            index = categories_list.index(category)\n",
    "            freq_list[index] += count\n",
    "    return freq_list\n",
    "        "
   ]
  },
  {
   "cell_type": "code",
   "execution_count": 9,
   "metadata": {
    "collapsed": false
   },
   "outputs": [
    {
     "data": {
      "text/plain": [
       "defaultdict(int,\n",
       "            {'Ability': 1,\n",
       "             'Expectation': 1,\n",
       "             'Farming': 1,\n",
       "             'Knowledge': 1,\n",
       "             'Linguistics': 1,\n",
       "             'Naming': 1,\n",
       "             'Number': 1,\n",
       "             'Particular plants': 1,\n",
       "             'Study of work': 1})"
      ]
     },
     "execution_count": 9,
     "metadata": {},
     "output_type": "execute_result"
    }
   ],
   "source": [
    "get_article_categories(\"apple computer the technology\")"
   ]
  },
  {
   "cell_type": "markdown",
   "metadata": {},
   "source": [
    "### Compute Category Frequency by article"
   ]
  },
  {
   "cell_type": "code",
   "execution_count": 10,
   "metadata": {
    "collapsed": false
   },
   "outputs": [
    {
     "data": {
      "text/html": [
       "<div>\n",
       "<table border=\"1\" class=\"dataframe\">\n",
       "  <thead>\n",
       "    <tr style=\"text-align: right;\">\n",
       "      <th></th>\n",
       "      <th>article</th>\n",
       "      <th>first link</th>\n",
       "      <th>year</th>\n",
       "    </tr>\n",
       "  </thead>\n",
       "  <tbody>\n",
       "    <tr>\n",
       "      <th>0</th>\n",
       "      <td>Channel 4 Television Corporation</td>\n",
       "      <td>Channel Four Television Corporation</td>\n",
       "      <td>2015</td>\n",
       "    </tr>\n",
       "    <tr>\n",
       "      <th>1</th>\n",
       "      <td>Mehemet II</td>\n",
       "      <td>Mehmed the Conqueror</td>\n",
       "      <td>2015</td>\n",
       "    </tr>\n",
       "    <tr>\n",
       "      <th>2</th>\n",
       "      <td>12471 Larryscherr</td>\n",
       "      <td>Asteroid belt</td>\n",
       "      <td>2015</td>\n",
       "    </tr>\n",
       "    <tr>\n",
       "      <th>3</th>\n",
       "      <td>An Acadian Easter</td>\n",
       "      <td>Francis Joseph Sherman#Writing</td>\n",
       "      <td>2015</td>\n",
       "    </tr>\n",
       "    <tr>\n",
       "      <th>4</th>\n",
       "      <td>Movadef</td>\n",
       "      <td>Shining Path</td>\n",
       "      <td>2015</td>\n",
       "    </tr>\n",
       "  </tbody>\n",
       "</table>\n",
       "</div>"
      ],
      "text/plain": [
       "                            article                           first link  year\n",
       "0  Channel 4 Television Corporation  Channel Four Television Corporation  2015\n",
       "1                        Mehemet II                 Mehmed the Conqueror  2015\n",
       "2                 12471 Larryscherr                        Asteroid belt  2015\n",
       "3                 An Acadian Easter       Francis Joseph Sherman#Writing  2015\n",
       "4                           Movadef                         Shining Path  2015"
      ]
     },
     "execution_count": 10,
     "metadata": {},
     "output_type": "execute_result"
    }
   ],
   "source": [
    "fln_df.head()"
   ]
  },
  {
   "cell_type": "code",
   "execution_count": 11,
   "metadata": {
    "collapsed": false
   },
   "outputs": [
    {
     "data": {
      "text/plain": [
       "(11277534, 3)"
      ]
     },
     "execution_count": 11,
     "metadata": {},
     "output_type": "execute_result"
    }
   ],
   "source": [
    "fln_df.shape"
   ]
  },
  {
   "cell_type": "code",
   "execution_count": 12,
   "metadata": {
    "collapsed": false
   },
   "outputs": [
    {
     "data": {
      "text/plain": [
       "'An Acadian Easter'"
      ]
     },
     "execution_count": 12,
     "metadata": {},
     "output_type": "execute_result"
    }
   ],
   "source": [
    "fln_df.iloc[3][\"article\"]"
   ]
  },
  {
   "cell_type": "code",
   "execution_count": 13,
   "metadata": {
    "collapsed": false
   },
   "outputs": [
    {
     "data": {
      "text/plain": [
       "range(0, 11277534)"
      ]
     },
     "execution_count": 13,
     "metadata": {},
     "output_type": "execute_result"
    }
   ],
   "source": [
    "range(fln_df.shape[0])"
   ]
  },
  {
   "cell_type": "code",
   "execution_count": null,
   "metadata": {
    "collapsed": false
   },
   "outputs": [],
   "source": []
  },
  {
   "cell_type": "code",
   "execution_count": 14,
   "metadata": {
    "collapsed": false
   },
   "outputs": [],
   "source": [
    "# runtime ~3min\n",
    "test_single_df = pd.DataFrame(fln_df.index.map(get_categories_freq_list))"
   ]
  },
  {
   "cell_type": "code",
   "execution_count": 15,
   "metadata": {
    "collapsed": false
   },
   "outputs": [
    {
     "data": {
      "text/html": [
       "<div>\n",
       "<table border=\"1\" class=\"dataframe\">\n",
       "  <thead>\n",
       "    <tr style=\"text-align: right;\">\n",
       "      <th></th>\n",
       "      <th>0</th>\n",
       "    </tr>\n",
       "  </thead>\n",
       "  <tbody>\n",
       "    <tr>\n",
       "      <th>0</th>\n",
       "      <td>[0.0, 0.0, 0.0, 0.0, 0.0, 0.0, 0.0, 0.0, 0.0, ...</td>\n",
       "    </tr>\n",
       "    <tr>\n",
       "      <th>1</th>\n",
       "      <td>[0.0, 0.0, 0.0, 0.0, 0.0, 0.0, 0.0, 0.0, 0.0, ...</td>\n",
       "    </tr>\n",
       "    <tr>\n",
       "      <th>2</th>\n",
       "      <td>[0.0, 0.0, 0.0, 0.0, 0.0, 0.0, 0.0, 0.0, 0.0, ...</td>\n",
       "    </tr>\n",
       "    <tr>\n",
       "      <th>3</th>\n",
       "      <td>[0.0, 0.0, 0.0, 0.0, 0.0, 0.0, 0.0, 0.0, 0.0, ...</td>\n",
       "    </tr>\n",
       "    <tr>\n",
       "      <th>4</th>\n",
       "      <td>[0.0, 0.0, 0.0, 0.0, 0.0, 0.0, 0.0, 0.0, 0.0, ...</td>\n",
       "    </tr>\n",
       "  </tbody>\n",
       "</table>\n",
       "</div>"
      ],
      "text/plain": [
       "                                                   0\n",
       "0  [0.0, 0.0, 0.0, 0.0, 0.0, 0.0, 0.0, 0.0, 0.0, ...\n",
       "1  [0.0, 0.0, 0.0, 0.0, 0.0, 0.0, 0.0, 0.0, 0.0, ...\n",
       "2  [0.0, 0.0, 0.0, 0.0, 0.0, 0.0, 0.0, 0.0, 0.0, ...\n",
       "3  [0.0, 0.0, 0.0, 0.0, 0.0, 0.0, 0.0, 0.0, 0.0, ...\n",
       "4  [0.0, 0.0, 0.0, 0.0, 0.0, 0.0, 0.0, 0.0, 0.0, ..."
      ]
     },
     "execution_count": 15,
     "metadata": {},
     "output_type": "execute_result"
    }
   ],
   "source": [
    "test_single_df.head()"
   ]
  },
  {
   "cell_type": "markdown",
   "metadata": {},
   "source": [
    "## Write to SQL database"
   ]
  },
  {
   "cell_type": "code",
   "execution_count": 19,
   "metadata": {
    "collapsed": true
   },
   "outputs": [],
   "source": [
    "# runtime ~(started 11:03)\n",
    "import sqlite3\n",
    "\n",
    "# Create a SQL connection to our SQLite database\n",
    "con = sqlite3.connect(\"/Users/mark/Desktop/temp_data/categories.sql\")\n",
    "\n",
    "test_single_df.to_sql(\"article_categories\", con=con, if_exists=\"replace\", chunksize=100000)\n",
    "\n",
    "con.close()"
   ]
  },
  {
   "cell_type": "code",
   "execution_count": 23,
   "metadata": {
    "collapsed": false
   },
   "outputs": [],
   "source": []
  },
  {
   "cell_type": "code",
   "execution_count": 24,
   "metadata": {
    "collapsed": true
   },
   "outputs": [],
   "source": [
    "#Be sure to close the connection.\n",
    "con.close()"
   ]
  },
  {
   "cell_type": "code",
   "execution_count": 26,
   "metadata": {
    "collapsed": false
   },
   "outputs": [
    {
     "name": "stdout",
     "output_type": "stream",
     "text": [
      "The slowest run took 6.76 times longer than the fastest. This could mean that an intermediate result is being cached \n",
      "100 loops, best of 3: 6.43 ms per loop\n"
     ]
    }
   ],
   "source": [
    "%%timeit\n",
    "test_single_df[0][:10000].apply(lambda x: x[0])"
   ]
  },
  {
   "cell_type": "code",
   "execution_count": null,
   "metadata": {
    "collapsed": true
   },
   "outputs": [],
   "source": [
    "# write single column categories df to disk\n",
    "    # runtime ~ (started 10:35)\n",
    "test_single_df.to_json(\"/Users/mark/Desktop/temp_data/single_categories_column.json\")"
   ]
  },
  {
   "cell_type": "markdown",
   "metadata": {},
   "source": [
    "## Test Generating Boolean for each article given category"
   ]
  },
  {
   "cell_type": "code",
   "execution_count": 19,
   "metadata": {
    "collapsed": true
   },
   "outputs": [],
   "source": [
    "def article_in_category(category,title):\n",
    "    \"\"\"\n",
    "    return true if article in category\n",
    "    \"\"\"\n",
    "    for word in title.split():\n",
    "        #eliminate duplicates \n",
    "        word_categories = set(categories_dict.get(word.lower().strip(\"()\"), []))\n",
    "        if category in word_categories:\n",
    "            return True\n",
    "    return False\n",
    "    "
   ]
  },
  {
   "cell_type": "code",
   "execution_count": 20,
   "metadata": {
    "collapsed": false
   },
   "outputs": [
    {
     "data": {
      "text/plain": [
       "'Armed encounter'"
      ]
     },
     "execution_count": 20,
     "metadata": {},
     "output_type": "execute_result"
    }
   ],
   "source": [
    "categories_list[0]"
   ]
  },
  {
   "cell_type": "code",
   "execution_count": null,
   "metadata": {
    "collapsed": true
   },
   "outputs": [],
   "source": []
  },
  {
   "cell_type": "code",
   "execution_count": 30,
   "metadata": {
    "collapsed": false
   },
   "outputs": [
    {
     "name": "stdout",
     "output_type": "stream",
     "text": [
      "1 loops, best of 3: 1min 35s per loop\n"
     ]
    }
   ],
   "source": [
    "%%timeit\n",
    "fln_df[fln_df[\"article\"].apply(article_in_category, args=(\"Armed encounter\",))]"
   ]
  },
  {
   "cell_type": "markdown",
   "metadata": {},
   "source": [
    "* **conclusion**: too slow, since there are 371 categories"
   ]
  },
  {
   "cell_type": "code",
   "execution_count": null,
   "metadata": {
    "collapsed": true
   },
   "outputs": [],
   "source": []
  }
 ],
 "metadata": {
  "kernelspec": {
   "display_name": "Python 3",
   "language": "python",
   "name": "python3"
  },
  "language_info": {
   "codemirror_mode": {
    "name": "ipython",
    "version": 3
   },
   "file_extension": ".py",
   "mimetype": "text/x-python",
   "name": "python",
   "nbconvert_exporter": "python",
   "pygments_lexer": "ipython3",
   "version": "3.5.1"
  }
 },
 "nbformat": 4,
 "nbformat_minor": 0
}

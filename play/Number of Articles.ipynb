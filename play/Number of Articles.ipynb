{
 "cells": [
  {
   "cell_type": "code",
   "execution_count": 1,
   "metadata": {
    "collapsed": false
   },
   "outputs": [
    {
     "name": "stderr",
     "output_type": "stream",
     "text": [
      "/usr/local/lib/python3.5/site-packages/matplotlib/__init__.py:872: UserWarning: axes.color_cycle is deprecated and replaced with axes.prop_cycle; please use the latter.\n",
      "  warnings.warn(self.msg_depr % (key, alt_key))\n"
     ]
    }
   ],
   "source": [
    "import pandas as pd\n",
    "from scipy import stats \n",
    "import numpy as np\n",
    "import json\n",
    "\n",
    "import matplotlib.pyplot as plt\n",
    "%matplotlib inline\n",
    "import seaborn as sns\n",
    "\n",
    "from collections import defaultdict"
   ]
  },
  {
   "cell_type": "markdown",
   "metadata": {},
   "source": [
    "## Load Data"
   ]
  },
  {
   "cell_type": "code",
   "execution_count": 31,
   "metadata": {
    "collapsed": false
   },
   "outputs": [
    {
     "data": {
      "text/html": [
       "<div>\n",
       "<table border=\"1\" class=\"dataframe\">\n",
       "  <thead>\n",
       "    <tr style=\"text-align: right;\">\n",
       "      <th></th>\n",
       "      <th>word</th>\n",
       "      <th>date</th>\n",
       "    </tr>\n",
       "  </thead>\n",
       "  <tbody>\n",
       "    <tr>\n",
       "      <th>0</th>\n",
       "      <td>widow-bird</td>\n",
       "      <td>1772</td>\n",
       "    </tr>\n",
       "    <tr>\n",
       "      <th>1</th>\n",
       "      <td>the less/little world</td>\n",
       "      <td>1200</td>\n",
       "    </tr>\n",
       "    <tr>\n",
       "      <th>2</th>\n",
       "      <td>symbolistic</td>\n",
       "      <td>1864</td>\n",
       "    </tr>\n",
       "    <tr>\n",
       "      <th>3</th>\n",
       "      <td>rectificative</td>\n",
       "      <td>1869</td>\n",
       "    </tr>\n",
       "    <tr>\n",
       "      <th>4</th>\n",
       "      <td>tennis-play</td>\n",
       "      <td>1440</td>\n",
       "    </tr>\n",
       "    <tr>\n",
       "      <th>5</th>\n",
       "      <td>milliner</td>\n",
       "      <td>1529</td>\n",
       "    </tr>\n",
       "    <tr>\n",
       "      <th>6</th>\n",
       "      <td>feldwesten</td>\n",
       "      <td>10</td>\n",
       "    </tr>\n",
       "    <tr>\n",
       "      <th>7</th>\n",
       "      <td>pierrerie</td>\n",
       "      <td>1400</td>\n",
       "    </tr>\n",
       "    <tr>\n",
       "      <th>8</th>\n",
       "      <td>leap-head</td>\n",
       "      <td>1611</td>\n",
       "    </tr>\n",
       "    <tr>\n",
       "      <th>9</th>\n",
       "      <td>lambed</td>\n",
       "      <td>1844</td>\n",
       "    </tr>\n",
       "    <tr>\n",
       "      <th>10</th>\n",
       "      <td>syntenic</td>\n",
       "      <td>1971</td>\n",
       "    </tr>\n",
       "    <tr>\n",
       "      <th>11</th>\n",
       "      <td>ombre-box</td>\n",
       "      <td>1878</td>\n",
       "    </tr>\n",
       "    <tr>\n",
       "      <th>12</th>\n",
       "      <td>clæferwyrt</td>\n",
       "      <td>10</td>\n",
       "    </tr>\n",
       "    <tr>\n",
       "      <th>13</th>\n",
       "      <td>semeiology</td>\n",
       "      <td>1694</td>\n",
       "    </tr>\n",
       "    <tr>\n",
       "      <th>14</th>\n",
       "      <td>egality</td>\n",
       "      <td>1374</td>\n",
       "    </tr>\n",
       "    <tr>\n",
       "      <th>15</th>\n",
       "      <td>biography-monger</td>\n",
       "      <td>1860</td>\n",
       "    </tr>\n",
       "    <tr>\n",
       "      <th>16</th>\n",
       "      <td>tetrapod</td>\n",
       "      <td>1962</td>\n",
       "    </tr>\n",
       "    <tr>\n",
       "      <th>17</th>\n",
       "      <td>as poor as  church mouse</td>\n",
       "      <td>1731</td>\n",
       "    </tr>\n",
       "    <tr>\n",
       "      <th>18</th>\n",
       "      <td>denuclearization</td>\n",
       "      <td>1959</td>\n",
       "    </tr>\n",
       "    <tr>\n",
       "      <th>19</th>\n",
       "      <td>offeror</td>\n",
       "      <td>1930</td>\n",
       "    </tr>\n",
       "    <tr>\n",
       "      <th>20</th>\n",
       "      <td>chemical mace</td>\n",
       "      <td>1966</td>\n",
       "    </tr>\n",
       "    <tr>\n",
       "      <th>21</th>\n",
       "      <td>myrgen</td>\n",
       "      <td>10</td>\n",
       "    </tr>\n",
       "    <tr>\n",
       "      <th>22</th>\n",
       "      <td>cupolated</td>\n",
       "      <td>1645</td>\n",
       "    </tr>\n",
       "    <tr>\n",
       "      <th>23</th>\n",
       "      <td>peroxisomal</td>\n",
       "      <td>1969</td>\n",
       "    </tr>\n",
       "    <tr>\n",
       "      <th>24</th>\n",
       "      <td>great trunk road</td>\n",
       "      <td>1851</td>\n",
       "    </tr>\n",
       "    <tr>\n",
       "      <th>25</th>\n",
       "      <td>double wicket</td>\n",
       "      <td>1778</td>\n",
       "    </tr>\n",
       "    <tr>\n",
       "      <th>26</th>\n",
       "      <td>diarian</td>\n",
       "      <td>1785</td>\n",
       "    </tr>\n",
       "    <tr>\n",
       "      <th>27</th>\n",
       "      <td>timber-tree</td>\n",
       "      <td>1505</td>\n",
       "    </tr>\n",
       "    <tr>\n",
       "      <th>28</th>\n",
       "      <td>kerry</td>\n",
       "      <td>1829</td>\n",
       "    </tr>\n",
       "    <tr>\n",
       "      <th>29</th>\n",
       "      <td>bump-stick</td>\n",
       "      <td>1725</td>\n",
       "    </tr>\n",
       "    <tr>\n",
       "      <th>...</th>\n",
       "      <td>...</td>\n",
       "      <td>...</td>\n",
       "    </tr>\n",
       "    <tr>\n",
       "      <th>345578</th>\n",
       "      <td>nutting day</td>\n",
       "      <td>1867</td>\n",
       "    </tr>\n",
       "    <tr>\n",
       "      <th>345579</th>\n",
       "      <td>year of christ/our lord/salvation</td>\n",
       "      <td>1396</td>\n",
       "    </tr>\n",
       "    <tr>\n",
       "      <th>345580</th>\n",
       "      <td>philistinic</td>\n",
       "      <td>1883</td>\n",
       "    </tr>\n",
       "    <tr>\n",
       "      <th>345581</th>\n",
       "      <td>hwiltidum...hwiltidum</td>\n",
       "      <td>10</td>\n",
       "    </tr>\n",
       "    <tr>\n",
       "      <th>345582</th>\n",
       "      <td>evil content</td>\n",
       "      <td>1477</td>\n",
       "    </tr>\n",
       "    <tr>\n",
       "      <th>345583</th>\n",
       "      <td>leucotomised</td>\n",
       "      <td>1951</td>\n",
       "    </tr>\n",
       "    <tr>\n",
       "      <th>345584</th>\n",
       "      <td>buffalo-hide</td>\n",
       "      <td>1703</td>\n",
       "    </tr>\n",
       "    <tr>\n",
       "      <th>345585</th>\n",
       "      <td>craft-guild</td>\n",
       "      <td>1870</td>\n",
       "    </tr>\n",
       "    <tr>\n",
       "      <th>345586</th>\n",
       "      <td>caloricity</td>\n",
       "      <td>1836</td>\n",
       "    </tr>\n",
       "    <tr>\n",
       "      <th>345587</th>\n",
       "      <td>suppurative</td>\n",
       "      <td>1541</td>\n",
       "    </tr>\n",
       "    <tr>\n",
       "      <th>345588</th>\n",
       "      <td>stiþe</td>\n",
       "      <td>10</td>\n",
       "    </tr>\n",
       "    <tr>\n",
       "      <th>345589</th>\n",
       "      <td>over-set</td>\n",
       "      <td>1897</td>\n",
       "    </tr>\n",
       "    <tr>\n",
       "      <th>345590</th>\n",
       "      <td>palisade-worm</td>\n",
       "      <td>1888</td>\n",
       "    </tr>\n",
       "    <tr>\n",
       "      <th>345591</th>\n",
       "      <td>scitte</td>\n",
       "      <td>10</td>\n",
       "    </tr>\n",
       "    <tr>\n",
       "      <th>345592</th>\n",
       "      <td>gethe</td>\n",
       "      <td>1440</td>\n",
       "    </tr>\n",
       "    <tr>\n",
       "      <th>345593</th>\n",
       "      <td>surfled</td>\n",
       "      <td>1575</td>\n",
       "    </tr>\n",
       "    <tr>\n",
       "      <th>345594</th>\n",
       "      <td>pie-maggot</td>\n",
       "      <td>1628</td>\n",
       "    </tr>\n",
       "    <tr>\n",
       "      <th>345595</th>\n",
       "      <td>winding</td>\n",
       "      <td>1356</td>\n",
       "    </tr>\n",
       "    <tr>\n",
       "      <th>345596</th>\n",
       "      <td>associationistic</td>\n",
       "      <td>1901</td>\n",
       "    </tr>\n",
       "    <tr>\n",
       "      <th>345597</th>\n",
       "      <td>white and black</td>\n",
       "      <td>1555</td>\n",
       "    </tr>\n",
       "    <tr>\n",
       "      <th>345598</th>\n",
       "      <td>annesse &lt; annes</td>\n",
       "      <td>10</td>\n",
       "    </tr>\n",
       "    <tr>\n",
       "      <th>345599</th>\n",
       "      <td>cot-case</td>\n",
       "      <td>1897</td>\n",
       "    </tr>\n",
       "    <tr>\n",
       "      <th>345600</th>\n",
       "      <td>shrubbed mallow</td>\n",
       "      <td>1597</td>\n",
       "    </tr>\n",
       "    <tr>\n",
       "      <th>345601</th>\n",
       "      <td>unzealous</td>\n",
       "      <td>1643</td>\n",
       "    </tr>\n",
       "    <tr>\n",
       "      <th>345602</th>\n",
       "      <td>ell-wand</td>\n",
       "      <td>1403</td>\n",
       "    </tr>\n",
       "    <tr>\n",
       "      <th>345603</th>\n",
       "      <td>xyz</td>\n",
       "      <td>1808</td>\n",
       "    </tr>\n",
       "    <tr>\n",
       "      <th>345604</th>\n",
       "      <td>sciomancy</td>\n",
       "      <td>1623</td>\n",
       "    </tr>\n",
       "    <tr>\n",
       "      <th>345605</th>\n",
       "      <td>drop-black</td>\n",
       "      <td>1879</td>\n",
       "    </tr>\n",
       "    <tr>\n",
       "      <th>345606</th>\n",
       "      <td>as poor as a church mouse</td>\n",
       "      <td>1731</td>\n",
       "    </tr>\n",
       "    <tr>\n",
       "      <th>345607</th>\n",
       "      <td>electro-reception</td>\n",
       "      <td>1970</td>\n",
       "    </tr>\n",
       "  </tbody>\n",
       "</table>\n",
       "<p>345608 rows × 2 columns</p>\n",
       "</div>"
      ],
      "text/plain": [
       "                                     word  date\n",
       "0                              widow-bird  1772\n",
       "1                   the less/little world  1200\n",
       "2                             symbolistic  1864\n",
       "3                           rectificative  1869\n",
       "4                             tennis-play  1440\n",
       "5                                milliner  1529\n",
       "6                              feldwesten    10\n",
       "7                               pierrerie  1400\n",
       "8                               leap-head  1611\n",
       "9                                  lambed  1844\n",
       "10                               syntenic  1971\n",
       "11                              ombre-box  1878\n",
       "12                             clæferwyrt    10\n",
       "13                             semeiology  1694\n",
       "14                                egality  1374\n",
       "15                       biography-monger  1860\n",
       "16                               tetrapod  1962\n",
       "17               as poor as  church mouse  1731\n",
       "18                       denuclearization  1959\n",
       "19                                offeror  1930\n",
       "20                          chemical mace  1966\n",
       "21                                 myrgen    10\n",
       "22                              cupolated  1645\n",
       "23                            peroxisomal  1969\n",
       "24                       great trunk road  1851\n",
       "25                          double wicket  1778\n",
       "26                                diarian  1785\n",
       "27                            timber-tree  1505\n",
       "28                                 kerry   1829\n",
       "29                             bump-stick  1725\n",
       "...                                   ...   ...\n",
       "345578                        nutting day  1867\n",
       "345579  year of christ/our lord/salvation  1396\n",
       "345580                        philistinic  1883\n",
       "345581              hwiltidum...hwiltidum    10\n",
       "345582                       evil content  1477\n",
       "345583                       leucotomised  1951\n",
       "345584                       buffalo-hide  1703\n",
       "345585                        craft-guild  1870\n",
       "345586                         caloricity  1836\n",
       "345587                        suppurative  1541\n",
       "345588                              stiþe    10\n",
       "345589                           over-set  1897\n",
       "345590                      palisade-worm  1888\n",
       "345591                             scitte    10\n",
       "345592                              gethe  1440\n",
       "345593                            surfled  1575\n",
       "345594                         pie-maggot  1628\n",
       "345595                            winding  1356\n",
       "345596                   associationistic  1901\n",
       "345597                    white and black  1555\n",
       "345598                    annesse < annes    10\n",
       "345599                           cot-case  1897\n",
       "345600                    shrubbed mallow  1597\n",
       "345601                          unzealous  1643\n",
       "345602                           ell-wand  1403\n",
       "345603                                xyz  1808\n",
       "345604                          sciomancy  1623\n",
       "345605                         drop-black  1879\n",
       "345606          as poor as a church mouse  1731\n",
       "345607                  electro-reception  1970\n",
       "\n",
       "[345608 rows x 2 columns]"
      ]
     },
     "execution_count": 31,
     "metadata": {},
     "output_type": "execute_result"
    }
   ],
   "source": [
    "#load word with years json\n",
    "\n",
    "with open(\"data/words_with_years.json\") as dw:\n",
    "    word_years_dict = json.load(dw)\n",
    "    #default dict value of 2015\n",
    "    word_years_dict = defaultdict(lambda: 2015, word_years_dict)\n",
    "    \n",
    "df_words = pd.DataFrame.from_dict(word_years_dict, orient='index')\n",
    "\n",
    "df_words.index.name = 'word'\n",
    "df_words.columns = ['date']\n",
    "df_words.reset_index()"
   ]
  },
  {
   "cell_type": "code",
   "execution_count": 39,
   "metadata": {
    "collapsed": false
   },
   "outputs": [
    {
     "data": {
      "text/plain": [
       "345608"
      ]
     },
     "execution_count": 39,
     "metadata": {},
     "output_type": "execute_result"
    }
   ],
   "source": [
    "df_words['date'].count()"
   ]
  },
  {
   "cell_type": "code",
   "execution_count": 42,
   "metadata": {
    "collapsed": false
   },
   "outputs": [],
   "source": [
    "num_words = []\n",
    "for y in range(1000, 2000, 1):\n",
    "     num_words.append(df_words[df_words['date'] < y]['date'].count())\n",
    "        \n"
   ]
  },
  {
   "cell_type": "code",
   "execution_count": 45,
   "metadata": {
    "collapsed": false
   },
   "outputs": [],
   "source": [
    "df_num_words = pd.DataFrame({'year': range(1000, 2000, 1), 'num_words': num_words})"
   ]
  },
  {
   "cell_type": "code",
   "execution_count": 3,
   "metadata": {
    "collapsed": false
   },
   "outputs": [],
   "source": [
    "#load number of articles by year\n",
    "temp_store_path = \"/Users/mark/Desktop/temp_data/\"\n",
    "with open(temp_store_path + \"num_articles_by_year.json\", \"r\") as f:\n",
    "    article_years_dict = json.load(f)\n",
    "    \n",
    "df_articles = pd.DataFrame.from_dict(article_years_dict, orient='index')\n",
    "\n",
    "df_articles.index.name = 'year'\n",
    "df_articles.columns = ['number of articles']"
   ]
  },
  {
   "cell_type": "markdown",
   "metadata": {},
   "source": [
    "## Basic Visualization"
   ]
  },
  {
   "cell_type": "code",
   "execution_count": 19,
   "metadata": {
    "collapsed": false
   },
   "outputs": [
    {
     "data": {
      "text/plain": [
       "<matplotlib.axes._subplots.AxesSubplot at 0x11a217828>"
      ]
     },
     "execution_count": 19,
     "metadata": {},
     "output_type": "execute_result"
    },
    {
     "data": {
      "image/png": "[encoded data removed]",
      "text/plain": [
       "<matplotlib.figure.Figure at 0x11a221b00>"
      ]
     },
     "metadata": {},
     "output_type": "display_data"
    }
   ],
   "source": [
    "#line chart\n",
    "df_articles['year'] = df_articles['year'].astype(int)\n",
    "sns.regplot(x='year', y='number of articles', data=df_articles)\n"
   ]
  },
  {
   "cell_type": "code",
   "execution_count": 48,
   "metadata": {
    "collapsed": false
   },
   "outputs": [
    {
     "data": {
      "text/plain": [
       "<matplotlib.collections.PathCollection at 0x11e871b00>"
      ]
     },
     "execution_count": 48,
     "metadata": {},
     "output_type": "execute_result"
    },
    {
     "data": {
      "image/png": "[encoded data removed]",
      "text/plain": [
       "<matplotlib.figure.Figure at 0x11e731240>"
      ]
     },
     "metadata": {},
     "output_type": "display_data"
    }
   ],
   "source": [
    "plt.scatter(df_articles['year'], df_articles['number of articles'], color='#268bd2')\n",
    "plt.scatter(df_num_words['year'], df_num_words['num_words'], color='#859900')\n"
   ]
  },
  {
   "cell_type": "code",
   "execution_count": 49,
   "metadata": {
    "collapsed": false
   },
   "outputs": [
    {
     "data": {
      "text/plain": [
       "<matplotlib.collections.PathCollection at 0x11eb26518>"
      ]
     },
     "execution_count": 49,
     "metadata": {},
     "output_type": "execute_result"
    },
    {
     "data": {
      "image/png": "[encoded data removed]",
      "text/plain": [
       "<matplotlib.figure.Figure at 0x11e6eba90>"
      ]
     },
     "metadata": {},
     "output_type": "display_data"
    }
   ],
   "source": [
    "plt.scatter(df_num_words['year'], df_num_words['num_words'], color='#859900')\n"
   ]
  },
  {
   "cell_type": "code",
   "execution_count": 69,
   "metadata": {
    "collapsed": false
   },
   "outputs": [
    {
     "data": {
      "text/plain": [
       "<matplotlib.text.Text at 0x113ff1be0>"
      ]
     },
     "execution_count": 69,
     "metadata": {},
     "output_type": "execute_result"
    },
    {
     "data": {
      "image/png": "[encoded data removed]",
      "text/plain": [
       "<matplotlib.figure.Figure at 0x113aede48>"
      ]
     },
     "metadata": {},
     "output_type": "display_data"
    }
   ],
   "source": [
    "#pair plot \n",
    "\n",
    "\n",
    "fig = plt.figure()\n",
    "ax1 = fig.add_subplot(211)\n",
    "ax1.scatter(df_articles['year'], df_articles['number of articles'], color='#268bd2')\n",
    "plt.title(\"articles\")\n",
    "\n",
    "\n",
    "ax2 = fig.add_subplot(212)\n",
    "ax2.scatter(df_num_words['year'], df_num_words['num_words'], color='#859900')\n",
    "plt.xlim([1400, 2100])\n",
    "plt.title(\"words\")"
   ]
  },
  {
   "cell_type": "code",
   "execution_count": 72,
   "metadata": {
    "collapsed": true
   },
   "outputs": [],
   "source": [
    "shift_value = df_articles['number of articles'].mean() - df_num_words['num_words'].mean()"
   ]
  },
  {
   "cell_type": "code",
   "execution_count": 73,
   "metadata": {
    "collapsed": false
   },
   "outputs": [],
   "source": [
    "df_num_words['shifted num_words'] = [w + shift_value for w in df_num_words['num_words']]"
   ]
  },
  {
   "cell_type": "code",
   "execution_count": 76,
   "metadata": {
    "collapsed": false
   },
   "outputs": [
    {
     "data": {
      "text/plain": [
       "<matplotlib.collections.PathCollection at 0x116297748>"
      ]
     },
     "execution_count": 76,
     "metadata": {},
     "output_type": "execute_result"
    },
    {
     "data": {
      "image/png": "[encoded data removed]",
      "text/plain": [
       "<matplotlib.figure.Figure at 0x1220bf400>"
      ]
     },
     "metadata": {},
     "output_type": "display_data"
    }
   ],
   "source": [
    "plt.scatter(df_articles['year'], df_articles['number of articles'], color='#268bd2')\n",
    "\n",
    "plt.scatter(df_num_words['year'], df_num_words['shifted num_words'], color='#859900')"
   ]
  },
  {
   "cell_type": "code",
   "execution_count": 89,
   "metadata": {
    "collapsed": false
   },
   "outputs": [],
   "source": [
    "#combine dataframe\n",
    "\n",
    "df_combined = pd.merge(df_articles, df_num_words, left_on='year', right_on='year', how='outer')\n",
    "\n",
    "df_combined = df_combined.dropna()\n",
    "df_combined = df_combined.drop(['index'], 1) #drop index column\n",
    "\n"
   ]
  },
  {
   "cell_type": "code",
   "execution_count": 92,
   "metadata": {
    "collapsed": false
   },
   "outputs": [
    {
     "name": "stdout",
     "output_type": "stream",
     "text": [
      "2511.47960121 -3447512.56632 0.991995889159\n"
     ]
    }
   ],
   "source": [
    "#linear regression for num articles\n",
    "slope, intercept, r_value, p_value, std_err = stats.linregress(df_combined['year'], df_combined['number of articles'])\n",
    "\n",
    "print(slope, intercept, r_value)"
   ]
  },
  {
   "cell_type": "code",
   "execution_count": 93,
   "metadata": {
    "collapsed": false
   },
   "outputs": [
    {
     "name": "stdout",
     "output_type": "stream",
     "text": [
      "576.571039228 -823590.63113 0.97802039001\n"
     ]
    }
   ],
   "source": [
    "#linear regression for num of words\n",
    "\n",
    "slope, intercept, r_value, p_value, std_err = stats.linregress(df_combined['year'], df_combined['num_words'])\n",
    "\n",
    "print(slope, intercept, r_value)"
   ]
  },
  {
   "cell_type": "code",
   "execution_count": null,
   "metadata": {
    "collapsed": true
   },
   "outputs": [],
   "source": []
  }
 ],
 "metadata": {
  "kernelspec": {
   "display_name": "Python 3",
   "language": "python",
   "name": "python3"
  },
  "language_info": {
   "codemirror_mode": {
    "name": "ipython",
    "version": 3
   },
   "file_extension": ".py",
   "mimetype": "text/x-python",
   "name": "python",
   "nbconvert_exporter": "python",
   "pygments_lexer": "ipython3",
   "version": "3.5.1"
  }
 },
 "nbformat": 4,
 "nbformat_minor": 0
}

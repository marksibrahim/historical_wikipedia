{
 "cells": [
  {
   "cell_type": "code",
   "execution_count": 1,
   "metadata": {
    "collapsed": false
   },
   "outputs": [
    {
     "name": "stderr",
     "output_type": "stream",
     "text": [
      "/usr/local/lib/python3.5/site-packages/matplotlib/__init__.py:872: UserWarning: axes.color_cycle is deprecated and replaced with axes.prop_cycle; please use the latter.\n",
      "  warnings.warn(self.msg_depr % (key, alt_key))\n"
     ]
    }
   ],
   "source": [
    "import pandas as pd\n",
    "from scipy import stats \n",
    "import numpy as np\n",
    "import json\n",
    "\n",
    "import matplotlib.pyplot as plt\n",
    "%matplotlib inline\n",
    "import seaborn as sns\n",
    "\n",
    "from collections import defaultdict\n",
    "\n",
    "#change to appropriate path\n",
    "results_path = \"/Users/mark/Desktop/wiki_v4/\""
   ]
  },
  {
   "cell_type": "code",
   "execution_count": 2,
   "metadata": {
    "collapsed": true
   },
   "outputs": [],
   "source": [
    "#load Wikipedia First Link Network \n",
    "\n",
    "\n",
    "with open(results_path + \"fln.json\") as f:\n",
    "    fln_dict = json.load(f)\n",
    "fln_df = pd.DataFrame.from_dict(fln_dict, orient='index')\n",
    "fln_df.index.name = 'article'\n",
    "fln_df.columns = ['first link']\n",
    "fln_df = fln_df.reset_index()"
   ]
  },
  {
   "cell_type": "code",
   "execution_count": 3,
   "metadata": {
    "collapsed": true
   },
   "outputs": [],
   "source": [
    "#load Categories\n",
    "data_path = \"/Users/mark/Dropbox/Math/Complex_Systems/research/classifying-ideas/historical_wikipedia/data/\"\n",
    "with open(data_path + \"categories_for_words.json\") as f:\n",
    "    categories_dict = json.load(f)"
   ]
  },
  {
   "cell_type": "code",
   "execution_count": 4,
   "metadata": {
    "collapsed": false
   },
   "outputs": [
    {
     "data": {
      "text/plain": [
       "384440"
      ]
     },
     "execution_count": 4,
     "metadata": {},
     "output_type": "execute_result"
    }
   ],
   "source": [
    "len(categories_dict)"
   ]
  },
  {
   "cell_type": "code",
   "execution_count": 32,
   "metadata": {
    "collapsed": false
   },
   "outputs": [
    {
     "data": {
      "text/plain": [
       "['Particular plants', 'Farming', 'Expectation']"
      ]
     },
     "execution_count": 32,
     "metadata": {},
     "output_type": "execute_result"
    }
   ],
   "source": [
    "categories_dict['apple']"
   ]
  },
  {
   "cell_type": "code",
   "execution_count": 5,
   "metadata": {
    "collapsed": false
   },
   "outputs": [
    {
     "data": {
      "text/plain": [
       "['Number', 'Number']"
      ]
     },
     "execution_count": 5,
     "metadata": {},
     "output_type": "execute_result"
    }
   ],
   "source": [
    "categories_dict['computer']"
   ]
  },
  {
   "cell_type": "code",
   "execution_count": 33,
   "metadata": {
    "collapsed": false
   },
   "outputs": [
    {
     "data": {
      "text/plain": [
       "['Ill-health',\n",
       " 'Ill-health',\n",
       " 'Invertebrates',\n",
       " 'Invertebrates',\n",
       " 'Mammals',\n",
       " 'Mammals',\n",
       " 'Food',\n",
       " 'Hunting',\n",
       " 'Hearing/noise',\n",
       " 'Hearing/noise',\n",
       " 'Creation',\n",
       " 'Extension in space',\n",
       " 'Extension in space',\n",
       " 'Extension in space',\n",
       " 'Extension in space',\n",
       " 'Endeavour',\n",
       " 'Endeavour',\n",
       " 'Number',\n",
       " 'Number',\n",
       " 'Understanding',\n",
       " 'Enquiry',\n",
       " 'Importance',\n",
       " 'Importance',\n",
       " 'Love',\n",
       " 'Love',\n",
       " 'Love',\n",
       " 'Fear',\n",
       " 'Taking']"
      ]
     },
     "execution_count": 33,
     "metadata": {},
     "output_type": "execute_result"
    }
   ],
   "source": [
    "categories_dict['mouse']"
   ]
  },
  {
   "cell_type": "code",
   "execution_count": 34,
   "metadata": {
    "collapsed": false
   },
   "outputs": [
    {
     "data": {
      "text/plain": [
       "['Ill-health',\n",
       " 'Growing/that grows',\n",
       " 'Particular plants',\n",
       " 'Food',\n",
       " 'Clothing',\n",
       " 'Clothing',\n",
       " 'Clothing',\n",
       " 'Clothing',\n",
       " 'Clothing',\n",
       " 'Clothing',\n",
       " 'Clothing',\n",
       " 'Clothing',\n",
       " 'Clothing',\n",
       " 'Clothing',\n",
       " 'Suffering',\n",
       " 'Love',\n",
       " 'Office',\n",
       " 'Office',\n",
       " 'Artefacts',\n",
       " 'Artefacts',\n",
       " 'Artefacts',\n",
       " 'Position/job',\n",
       " 'Working']"
      ]
     },
     "execution_count": 34,
     "metadata": {},
     "output_type": "execute_result"
    }
   ],
   "source": [
    "categories_dict['hat']"
   ]
  },
  {
   "cell_type": "code",
   "execution_count": 35,
   "metadata": {
    "collapsed": true
   },
   "outputs": [],
   "source": [
    "def get_article_category(title):\n",
    "    \"\"\"\n",
    "    returns the most frequentlly appearing category \n",
    "    of the words in the article's title\n",
    "    \"\"\"\n",
    "    categories = defaultdict(int)\n",
    "    for word in title.split():\n",
    "        #eliminate duplicates \n",
    "        word_categories = set(categories_dict.get(word.lower().strip(\"()\"), []))\n",
    "        for category in word_categories:\n",
    "            categories[category] += 1\n",
    "    if categories:\n",
    "        return categories\n",
    "    else:\n",
    "        return [\"None\"]"
   ]
  },
  {
   "cell_type": "code",
   "execution_count": 36,
   "metadata": {
    "collapsed": false
   },
   "outputs": [
    {
     "data": {
      "text/plain": [
       "defaultdict(int,\n",
       "            {'Ability': 1,\n",
       "             'Expectation': 1,\n",
       "             'Farming': 1,\n",
       "             'Knowledge': 1,\n",
       "             'Linguistics': 1,\n",
       "             'Naming': 1,\n",
       "             'Number': 1,\n",
       "             'Particular plants': 1,\n",
       "             'Study of work': 1})"
      ]
     },
     "execution_count": 36,
     "metadata": {},
     "output_type": "execute_result"
    }
   ],
   "source": [
    "get_article_category('apple computer the technology')"
   ]
  },
  {
   "cell_type": "code",
   "execution_count": 37,
   "metadata": {
    "collapsed": false
   },
   "outputs": [
    {
     "data": {
      "text/plain": [
       "defaultdict(int,\n",
       "            {'Administration of justice': 1,\n",
       "             'Causation': 1,\n",
       "             'Colour': 1,\n",
       "             'Creation': 1,\n",
       "             'Drink': 1,\n",
       "             'Duration': 1,\n",
       "             'Extension in space': 1,\n",
       "             'Food': 1,\n",
       "             'Industry': 1,\n",
       "             'Linguistics': 1,\n",
       "             'Management of money': 1,\n",
       "             'Manifestation': 1,\n",
       "             'Manner of action': 1,\n",
       "             'Number': 1,\n",
       "             'Particular plants': 1,\n",
       "             'The Arts': 1})"
      ]
     },
     "execution_count": 37,
     "metadata": {},
     "output_type": "execute_result"
    }
   ],
   "source": [
    "get_article_category('coffee beans production')"
   ]
  },
  {
   "cell_type": "code",
   "execution_count": 47,
   "metadata": {
    "collapsed": false
   },
   "outputs": [
    {
     "data": {
      "text/plain": [
       "defaultdict(int,\n",
       "            {'Administration of justice': 1,\n",
       "             'Advantage': 2,\n",
       "             'Air/space travel': 1,\n",
       "             'Aspects of travel': 1,\n",
       "             'Atmosphere, weather': 1,\n",
       "             'Attack with aircraft': 1,\n",
       "             'Behaviour': 1,\n",
       "             'Causation': 1,\n",
       "             'Change': 1,\n",
       "             'Control': 1,\n",
       "             'Creation': 1,\n",
       "             'Duration': 1,\n",
       "             'Extension in space': 1,\n",
       "             'Hostilities at sea': 1,\n",
       "             'Indication': 1,\n",
       "             'Industry': 1,\n",
       "             'Journalism': 1,\n",
       "             'Judgement, decision': 1,\n",
       "             'Law enforcement': 1,\n",
       "             'Linguistics': 1,\n",
       "             'Management of money': 2,\n",
       "             'Manifestation': 1,\n",
       "             'Manner of action': 2,\n",
       "             'Means of travel': 1,\n",
       "             'Merchandise': 1,\n",
       "             'Moral evil': 1,\n",
       "             'Navigation': 1,\n",
       "             'Number': 1,\n",
       "             'Office': 1,\n",
       "             'Progressive motion': 1,\n",
       "             'Quantity': 1,\n",
       "             'Relinquishing': 1,\n",
       "             'Retaining': 1,\n",
       "             'Selling': 1,\n",
       "             'Social relations': 1,\n",
       "             'Speech': 1,\n",
       "             'Sport': 1,\n",
       "             'Stocks and shares': 1,\n",
       "             'Suffering': 1,\n",
       "             'The Arts': 1,\n",
       "             'Trader': 1,\n",
       "             'Wholeness': 1,\n",
       "             'Working': 1,\n",
       "             'Worship': 1})"
      ]
     },
     "execution_count": 47,
     "metadata": {},
     "output_type": "execute_result"
    }
   ],
   "source": [
    "get_article_category('economic production surplus trade')"
   ]
  },
  {
   "cell_type": "code",
   "execution_count": 40,
   "metadata": {
    "collapsed": false
   },
   "outputs": [
    {
     "data": {
      "text/plain": [
       "defaultdict(int,\n",
       "            {'Deity': 1,\n",
       "             'Discovery': 1,\n",
       "             'Endeavour': 1,\n",
       "             'Enquiry': 1,\n",
       "             'Linguistics': 1,\n",
       "             'Manifestation': 1,\n",
       "             'Record': 1,\n",
       "             'Relative position': 1,\n",
       "             'Science of mankind': 1,\n",
       "             'Sight/vision': 1,\n",
       "             'Testing': 1,\n",
       "             'The Arts': 2})"
      ]
     },
     "execution_count": 40,
     "metadata": {},
     "output_type": "execute_result"
    }
   ],
   "source": [
    "get_article_category('linguistic anthropology discovery')"
   ]
  },
  {
   "cell_type": "code",
   "execution_count": 42,
   "metadata": {
    "collapsed": false
   },
   "outputs": [
    {
     "data": {
      "text/plain": [
       "{'Discovery',\n",
       " 'Endeavour',\n",
       " 'Enquiry',\n",
       " 'Manifestation',\n",
       " 'Record',\n",
       " 'Relative position',\n",
       " 'Sight/vision',\n",
       " 'Testing',\n",
       " 'The Arts'}"
      ]
     },
     "execution_count": 42,
     "metadata": {},
     "output_type": "execute_result"
    }
   ],
   "source": [
    "set(categories_dict['discovery'])"
   ]
  },
  {
   "cell_type": "markdown",
   "metadata": {},
   "source": [
    "## Most Frequently Appearing Tags in Today's Wikipedia"
   ]
  },
  {
   "cell_type": "code",
   "execution_count": 64,
   "metadata": {
    "collapsed": false
   },
   "outputs": [],
   "source": [
    "from collections import Counter\n",
    "\n",
    "# runtime ~3min\n",
    "\n",
    "categories_rank = defaultdict(int)\n",
    "\n",
    "for article in fln_df['article']:\n",
    "    article_categories = get_article_category(article)\n",
    "    for category in article_categories:\n",
    "        categories_rank[category] += 1"
   ]
  },
  {
   "cell_type": "code",
   "execution_count": 69,
   "metadata": {
    "collapsed": false
   },
   "outputs": [
    {
     "name": "stdout",
     "output_type": "stream",
     "text": [
      "N 4303937\n",
      "o 4303937\n",
      "e 4303937\n",
      "n 4303937\n",
      "The Arts 2764063\n",
      "Relative position 2168997\n",
      "Sport 1885773\n",
      "Farming 1747774\n",
      "Rule/government 1673423\n",
      "Navigation 1649311\n",
      "Relationship 1592215\n",
      "Inhabited place 1479564\n",
      "Food 1477729\n",
      "Number 1467172\n",
      "The body 1424885\n",
      "Creation 1380219\n",
      "Taking 1346398\n",
      "Ill-health 1246438\n",
      "Entertainment 1231272\n",
      "Knowledge 1225008\n",
      "Wholeness 1155924\n",
      "Equipment 1100943\n",
      "Motion in a certain direction 1095963\n",
      "Particular time 1095262\n",
      "Behaviour 1056998\n",
      "Social class 1026757\n",
      "Mammals 1015503\n",
      "Quantity 972826\n",
      "Means of travel 970587\n",
      "Clothing 967941\n",
      "Physics 942587\n",
      "Industry 925279\n",
      "Prosperity 901348\n",
      "Order 900348\n",
      "Kind/sort 897476\n",
      "Land 887623\n",
      "Drink 885607\n",
      "Shape 878487\n",
      "Healing/cure 878482\n",
      "Biology 854386\n",
      "Materials 847538\n",
      "Hunting 842056\n",
      "The universe 821289\n",
      "Social relations 819644\n",
      "Belief 817549\n",
      "Punishment 814638\n",
      "Office 786396\n",
      "Textiles 780597\n",
      "Printing 770296\n",
      "Transport 758426\n"
     ]
    }
   ],
   "source": [
    "for category in sorted(categories_rank, key=categories_rank.get, reverse=True)[:50]:\n",
    "    print(category, categories_rank[category])"
   ]
  },
  {
   "cell_type": "code",
   "execution_count": 70,
   "metadata": {
    "collapsed": true
   },
   "outputs": [],
   "source": [
    "#fix \"None\" category\n",
    "categories_rank[\"None\"] = 4303937\n",
    "\n",
    "del categories_rank[\"N\"]\n",
    "del categories_rank[\"o\"]\n",
    "del categories_rank[\"n\"]\n",
    "del categories_rank[\"e\"]"
   ]
  },
  {
   "cell_type": "code",
   "execution_count": 71,
   "metadata": {
    "collapsed": true
   },
   "outputs": [],
   "source": [
    "#store categories rank json\n",
    "\n",
    "#write data\n",
    "temp_store_path = \"/Users/mark/Desktop/temp_data/\"\n",
    "with open(temp_store_path + \"categories_rank.json\", \"w\") as f:\n",
    "    json.dump(categories_rank, f)"
   ]
  },
  {
   "cell_type": "code",
   "execution_count": null,
   "metadata": {
    "collapsed": true
   },
   "outputs": [],
   "source": []
  }
 ],
 "metadata": {
  "kernelspec": {
   "display_name": "Python 3",
   "language": "python",
   "name": "python3"
  },
  "language_info": {
   "codemirror_mode": {
    "name": "ipython",
    "version": 3
   },
   "file_extension": ".py",
   "mimetype": "text/x-python",
   "name": "python",
   "nbconvert_exporter": "python",
   "pygments_lexer": "ipython3",
   "version": "3.5.1"
  }
 },
 "nbformat": 4,
 "nbformat_minor": 0
}

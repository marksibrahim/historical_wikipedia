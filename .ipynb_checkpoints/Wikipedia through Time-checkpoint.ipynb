{
 "cells": [
  {
   "cell_type": "markdown",
   "metadata": {},
   "source": [
    "TODO: \n",
    "\n",
    "* ~~number of articles (number of ideas present)~~\n",
    "* create FLN \n",
    "    - degree distribution (how connected ideas are?)\n",
    "    - list of invalid first links \n",
    "    - accumulation (what's the most important idea), cycles (groups of ideas), and influence (most influential idea)\n",
    "    "
   ]
  },
  {
   "cell_type": "code",
   "execution_count": 1,
   "metadata": {
    "collapsed": false
   },
   "outputs": [],
   "source": [
    "import pandas as pd\n",
    "from scipy import stats \n",
    "import numpy as np\n",
    "import json\n",
    "\n",
    "import matplotlib.pyplot as plt\n",
    "%matplotlib inline\n",
    "import seaborn as sns\n",
    "\n",
    "from collections import defaultdict"
   ]
  },
  {
   "cell_type": "code",
   "execution_count": 2,
   "metadata": {
    "collapsed": false
   },
   "outputs": [],
   "source": [
    "#load word with years json\n",
    "\n",
    "with open(\"data/words_with_years.json\") as dw:\n",
    "    word_years_dict = json.load(dw)\n",
    "    #default dict value of 2015\n",
    "    word_years_dict = defaultdict(lambda: 2015, word_years_dict)\n",
    "    "
   ]
  },
  {
   "cell_type": "code",
   "execution_count": 3,
   "metadata": {
    "collapsed": false
   },
   "outputs": [],
   "source": [
    "#load Wikipedia First Link Network \n",
    "\n",
    "#change to appropriate path\n",
    "results_path = \"/Users/mark/Desktop/wiki_v4/\" \n",
    "\n",
    "with open(results_path + \"fln.json\") as f:\n",
    "    fln_dict = json.load(f)\n",
    "fln_df = pd.DataFrame(fln_dict.items())\n",
    "fln_df.columns = ['article', 'first link']\n"
   ]
  },
  {
   "cell_type": "code",
   "execution_count": 24,
   "metadata": {
    "collapsed": false
   },
   "outputs": [],
   "source": [
    "def get_article_year(title):\n",
    "    \"\"\"\n",
    "    returns the earliest year\n",
    "    the article could have appeared\n",
    "    by computing the latest first \n",
    "    appearance of the words in the title\n",
    "    \"\"\"\n",
    "    years = []\n",
    "    for word in title.split():\n",
    "        years.append(word_years_dict[word.lower().strip(\"()\")])\n",
    "    years.sort()\n",
    "    if years:\n",
    "        return years[-1]\n",
    "    else:\n",
    "        return 2015"
   ]
  },
  {
   "cell_type": "code",
   "execution_count": 25,
   "metadata": {
    "collapsed": false
   },
   "outputs": [],
   "source": [
    "#apply function to dataframe (runtime ~6 min)\n",
    "fln_df['year'] = fln_df['article'].apply(get_article_year)"
   ]
  },
  {
   "cell_type": "markdown",
   "metadata": {},
   "source": [
    "##Number of articles \n",
    "a proxy for the evolution of the number of ideas through time"
   ]
  },
  {
   "cell_type": "code",
   "execution_count": 32,
   "metadata": {
    "collapsed": false
   },
   "outputs": [
    {
     "name": "stdout",
     "output_type": "stream",
     "text": [
      "[4834, 4849, 7865, 57184, 223858, 338298, 600321, 842172, 975123, 1352958, 1561537]\n"
     ]
    }
   ],
   "source": [
    "centuries = range(1000, 2100, 100)\n",
    "number_of_articles = []\n",
    "\n",
    "for century in centuries:\n",
    "    number_of_articles.append(fln_df[fln_df['year'] < century].shape[0])\n",
    "    \n",
    "print number_of_articles"
   ]
  },
  {
   "cell_type": "code",
   "execution_count": 37,
   "metadata": {
    "collapsed": false
   },
   "outputs": [
    {
     "data": {
      "text/plain": [
       "<matplotlib.text.Text at 0x12ea4e490>"
      ]
     },
     "execution_count": 37,
     "metadata": {},
     "output_type": "execute_result"
    },
    {
     "data": {
      "image/png": "[encoded data removed]",
      "text/plain": [
       "<matplotlib.figure.Figure at 0x12e93c310>"
      ]
     },
     "metadata": {},
     "output_type": "display_data"
    }
   ],
   "source": [
    "plt.scatter(centuries, number_of_articles, c=\"#268bd2\")\n",
    "plt.xlabel(\"Year\")\n",
    "plt.ylabel(\"Number of Articles\")\n",
    "plt.title(\"Articles through Time\")"
   ]
  },
  {
   "cell_type": "code",
   "execution_count": 38,
   "metadata": {
    "collapsed": false
   },
   "outputs": [
    {
     "name": "stdout",
     "output_type": "stream",
     "text": [
      "[4834, 4849, 7865, 57184, 223858, 338298, 600321, 842172, 975123, 1352958, 1561537]\n"
     ]
    }
   ],
   "source": [
    "print number_of_articles"
   ]
  },
  {
   "cell_type": "markdown",
   "metadata": {},
   "source": [
    "**By decade**"
   ]
  },
  {
   "cell_type": "code",
   "execution_count": 39,
   "metadata": {
    "collapsed": false
   },
   "outputs": [],
   "source": [
    "decades = range(1800, 2010, 10)\n",
    "\n",
    "num_articles_by_decade = []\n",
    "\n",
    "for decade in decades:\n",
    "    num_articles_by_decade.append(fln_df[fln_df['year'] < decade].shape[0])\n",
    "    "
   ]
  },
  {
   "cell_type": "code",
   "execution_count": 40,
   "metadata": {
    "collapsed": false
   },
   "outputs": [
    {
     "data": {
      "text/plain": [
       "<matplotlib.text.Text at 0x12eafc390>"
      ]
     },
     "execution_count": 40,
     "metadata": {},
     "output_type": "execute_result"
    },
    {
     "data": {
      "image/png": "[encoded data removed]",
      "text/plain": [
       "<matplotlib.figure.Figure at 0x12e88e410>"
      ]
     },
     "metadata": {},
     "output_type": "display_data"
    }
   ],
   "source": [
    "plt.scatter(decades, num_articles_by_decade, c=\"#268bd2\")\n",
    "plt.xlabel(\"Year\")\n",
    "plt.ylabel(\"Number of Articles\")\n",
    "plt.title(\"Articles through Time (by Decades)\")"
   ]
  },
  {
   "cell_type": "markdown",
   "metadata": {},
   "source": [
    "##Degree Distribution and Invalid Links\n",
    "how connected and disconnected are ideas?"
   ]
  },
  {
   "cell_type": "code",
   "execution_count": 25,
   "metadata": {
    "collapsed": false
   },
   "outputs": [],
   "source": []
  },
  {
   "cell_type": "markdown",
   "metadata": {},
   "source": [
    "##Where do references accumulate?\n",
    "how does the main anchor for our ideas change through time?"
   ]
  },
  {
   "cell_type": "code",
   "execution_count": 25,
   "metadata": {
    "collapsed": false
   },
   "outputs": [],
   "source": [
    "#for viz, give fletcher dictionary (stored as json)"
   ]
  },
  {
   "cell_type": "markdown",
   "metadata": {},
   "source": [
    "##Which articles most influence the shape of the network?\n",
    "the organization of ideas' connections changing through time"
   ]
  },
  {
   "cell_type": "code",
   "execution_count": null,
   "metadata": {
    "collapsed": false
   },
   "outputs": [],
   "source": []
  }
 ],
 "metadata": {
  "kernelspec": {
   "display_name": "Python 3",
   "language": "python",
   "name": "python3"
  },
  "language_info": {
   "codemirror_mode": {
    "name": "ipython",
    "version": 3
   },
   "file_extension": ".py",
   "mimetype": "text/x-python",
   "name": "python",
   "nbconvert_exporter": "python",
   "pygments_lexer": "ipython3",
   "version": "3.5.1"
  }
 },
 "nbformat": 4,
 "nbformat_minor": 0
}
